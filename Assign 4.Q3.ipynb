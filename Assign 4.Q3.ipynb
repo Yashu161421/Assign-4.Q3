{
 "cells": [
  {
   "cell_type": "code",
   "execution_count": 3,
   "id": "b9ec395f",
   "metadata": {},
   "outputs": [
    {
     "name": "stdout",
     "output_type": "stream",
     "text": [
      "enter a list: [4,5,2,9]\n",
      "square the elements of the list: \n",
      "[16, 25, 4, 81]\n"
     ]
    }
   ],
   "source": [
    "def square_numbers(lst):\n",
    "    return list(map(lambda x: x ** 2, lst))\n",
    "\n",
    "sample_list = eval(input(\"enter a list: \"))\n",
    "result = square_numbers(sample_list)\n",
    "\n",
    "print(\"square the elements of the list: \")\n",
    "print(result)"
   ]
  },
  {
   "cell_type": "code",
   "execution_count": null,
   "id": "13c1235e",
   "metadata": {},
   "outputs": [],
   "source": []
  }
 ],
 "metadata": {
  "kernelspec": {
   "display_name": "Python 3 (ipykernel)",
   "language": "python",
   "name": "python3"
  },
  "language_info": {
   "codemirror_mode": {
    "name": "ipython",
    "version": 3
   },
   "file_extension": ".py",
   "mimetype": "text/x-python",
   "name": "python",
   "nbconvert_exporter": "python",
   "pygments_lexer": "ipython3",
   "version": "3.11.3"
  }
 },
 "nbformat": 4,
 "nbformat_minor": 5
}
